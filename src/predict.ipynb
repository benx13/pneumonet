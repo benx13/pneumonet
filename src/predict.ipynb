{
 "cells": [
  {
   "cell_type": "code",
   "execution_count": 23,
   "metadata": {
    "collapsed": true
   },
   "outputs": [],
   "source": [
    "\n",
    "from torchvision.transforms.functional import to_pil_image\n",
    "\n",
    "from torchcam.cams import ScoreCAM\n",
    "from torchcam.utils import overlay_mask\n",
    "\n",
    "import cv2\n",
    "from tqdm import tqdm\n",
    "import time\n",
    "\n",
    "import numpy as np\n",
    "from PIL import Image\n",
    "from torchvision import models, transforms\n",
    "\n",
    "import torch\n",
    "\n",
    "from torchvision.transforms import Compose\n",
    "import os\n",
    "import torch.nn as nn\n",
    "\n",
    "from imutils import paths\n",
    "\n",
    "import matplotlib.pyplot as plt\n",
    "\n",
    "from pfe.preprocessing.bonsup.resnetbs import resnet_bs\n",
    "\n",
    "from pfe.preprocessing.segmentation.VAE import uVAE\n",
    "from pfe.utils.utils import saveMask, loadDCM"
   ]
  },
  {
   "cell_type": "code",
   "execution_count": 23,
   "outputs": [],
   "source": [],
   "metadata": {
    "collapsed": false,
    "pycharm": {
     "name": "#%%\n"
    }
   }
  },
  {
   "cell_type": "code",
   "execution_count": 24,
   "outputs": [
    {
     "data": {
      "text/plain": "device(type='cpu')"
     },
     "execution_count": 24,
     "metadata": {},
     "output_type": "execute_result"
    }
   ],
   "source": [
    "device = torch.device(\"cuda:0\" if torch.cuda.is_available() else \"cpu\")\n",
    "device"
   ],
   "metadata": {
    "collapsed": false,
    "pycharm": {
     "name": "#%%\n"
    }
   }
  },
  {
   "cell_type": "code",
   "execution_count": 25,
   "outputs": [
    {
     "data": {
      "text/plain": "<All keys matched successfully>"
     },
     "execution_count": 25,
     "metadata": {},
     "output_type": "execute_result"
    }
   ],
   "source": [
    "resnet18masked = models.resnet18(pretrained=True)\n",
    "\n",
    "resnet18masked.fc = nn.Sequential(\n",
    "                    nn.Linear(512, 256),\n",
    "                    nn.ReLU(),\n",
    "                    nn.Linear(256, 4))\n",
    "resnet18masked.to(device)\n",
    "resnet18masked.load_state_dict(torch.load('pretrained_models/xresnet18masked.pt', map_location=torch.device('cpu')))"
   ],
   "metadata": {
    "collapsed": false,
    "pycharm": {
     "name": "#%%\n"
    }
   }
  },
  {
   "cell_type": "code",
   "execution_count": 26,
   "outputs": [],
   "source": [
    "resnetbs = resnet_bs(num_filters=64, num_res_blocks=16, res_block_scaling=0.1)\n"
   ],
   "metadata": {
    "collapsed": false,
    "pycharm": {
     "name": "#%%\n"
    }
   }
  },
  {
   "cell_type": "code",
   "execution_count": 27,
   "outputs": [],
   "source": [
    "\n",
    "VAE = uVAE(nhid= 16, nlatent=8)\n",
    "VAE.load_state_dict(torch.load('pretrained_models/VAE.pt', map_location=torch.device(\"cpu\")))\n",
    "VAE.to(device)\n",
    "VAE.eval()\n",
    "\n",
    "resnetbs.load_weights('pretrained_models/resnet-bs.h5')"
   ],
   "metadata": {
    "collapsed": false,
    "pycharm": {
     "name": "#%%\n"
    }
   }
  },
  {
   "cell_type": "code",
   "execution_count": 28,
   "outputs": [],
   "source": [
    "#path = \"/content/gdrive/MyDrive/Our PFE/PFE/Data/OurData/Mendeley/Data/PNEUMONIA\"\n",
    "#img_paths = list(paths.list_images(path))\n",
    "#len(img_paths)"
   ],
   "metadata": {
    "collapsed": false,
    "pycharm": {
     "name": "#%%\n"
    }
   }
  },
  {
   "cell_type": "code",
   "execution_count": 29,
   "outputs": [],
   "source": [
    "def plot_hm(image):\n",
    "  y_test_pred = resnet18masked(image.unsqueeze(0).to(device))\n",
    "  _, y_pred_tags = torch.max(y_test_pred, dim = 1)\n",
    "  activation_map = cam_extractor(y_test_pred.squeeze(0).argmax().item(), y_test_pred)\n",
    "  result = overlay_mask(to_pil_image(image), to_pil_image(activation_map, mode='F'), alpha=0.5)\n",
    "  plt.imshow(result); plt.axis('off'); plt.tight_layout(); plt.show()"
   ],
   "metadata": {
    "collapsed": false,
    "pycharm": {
     "name": "#%%\n"
    }
   }
  },
  {
   "cell_type": "code",
   "execution_count": 43,
   "outputs": [],
   "source": [
    "image_list = ['/Users/benx13/PycharmProjects/pythonProject/pfe/images/chexnet.png']"
   ],
   "metadata": {
    "collapsed": false,
    "pycharm": {
     "name": "#%%\n"
    }
   }
  },
  {
   "cell_type": "code",
   "execution_count": 44,
   "outputs": [
    {
     "name": "stderr",
     "output_type": "stream",
     "text": [
      "WARNING:root:no value was provided for `target_layer`, thus set to 'layer4'.\n",
      "  0%|          | 0/1 [00:00<?, ?it/s]"
     ]
    },
    {
     "name": "stdout",
     "output_type": "stream",
     "text": [
      "0 chexnet.png\n"
     ]
    },
    {
     "name": "stderr",
     "output_type": "stream",
     "text": [
      "  0%|          | 0/1 [00:03<?, ?it/s]\n"
     ]
    },
    {
     "ename": "OSError",
     "evalue": "Cannot understand given URI: array([[16.732504  ,  4.6807103 ,  0.76154566, ..., 14.58....",
     "output_type": "error",
     "traceback": [
      "\u001B[0;31m---------------------------------------------------------------------------\u001B[0m",
      "\u001B[0;31mOSError\u001B[0m                                   Traceback (most recent call last)",
      "\u001B[0;32m<ipython-input-44-28cf70cb0cb7>\u001B[0m in \u001B[0;36m<module>\u001B[0;34m\u001B[0m\n\u001B[1;32m     16\u001B[0m   \u001B[0mbs\u001B[0m \u001B[0;34m=\u001B[0m \u001B[0mbs\u001B[0m\u001B[0;34m*\u001B[0m\u001B[0;36m255\u001B[0m\u001B[0;34m\u001B[0m\u001B[0;34m\u001B[0m\u001B[0m\n\u001B[1;32m     17\u001B[0m \u001B[0;34m\u001B[0m\u001B[0m\n\u001B[0;32m---> 18\u001B[0;31m   \u001B[0mimg\u001B[0m\u001B[0;34m,\u001B[0m \u001B[0mroi\u001B[0m\u001B[0;34m,\u001B[0m \u001B[0mh\u001B[0m\u001B[0;34m,\u001B[0m \u001B[0mw\u001B[0m\u001B[0;34m,\u001B[0m \u001B[0mhLoc\u001B[0m\u001B[0;34m,\u001B[0m \u001B[0mwLoc\u001B[0m\u001B[0;34m,\u001B[0m \u001B[0mimH\u001B[0m\u001B[0;34m,\u001B[0m \u001B[0mimW\u001B[0m \u001B[0;34m=\u001B[0m \u001B[0mloadDCM\u001B[0m\u001B[0;34m(\u001B[0m\u001B[0mbs\u001B[0m\u001B[0;34m,\u001B[0m \u001B[0mpreprocess\u001B[0m\u001B[0;34m=\u001B[0m\u001B[0;32mFalse\u001B[0m\u001B[0;34m)\u001B[0m\u001B[0;34m\u001B[0m\u001B[0;34m\u001B[0m\u001B[0m\n\u001B[0m\u001B[1;32m     19\u001B[0m \u001B[0;34m\u001B[0m\u001B[0m\n\u001B[1;32m     20\u001B[0m   \u001B[0mimg\u001B[0m \u001B[0;34m=\u001B[0m \u001B[0mimg\u001B[0m\u001B[0;34m.\u001B[0m\u001B[0mto\u001B[0m\u001B[0;34m(\u001B[0m\u001B[0mdevice\u001B[0m\u001B[0;34m)\u001B[0m\u001B[0;34m\u001B[0m\u001B[0;34m\u001B[0m\u001B[0m\n",
      "\u001B[0;32m~/PycharmProjects/pythonProject/pfe/utils/utils.py\u001B[0m in \u001B[0;36mloadDCM\u001B[0;34m(f, preprocess, dicom, p)\u001B[0m\n\u001B[1;32m    156\u001B[0m \u001B[0;34m\u001B[0m\u001B[0m\n\u001B[1;32m    157\u001B[0m     \u001B[0mprint\u001B[0m\u001B[0;34m(\u001B[0m\u001B[0mdcm\u001B[0m\u001B[0;34m.\u001B[0m\u001B[0mshape\u001B[0m\u001B[0;34m)\u001B[0m\u001B[0;34m\u001B[0m\u001B[0;34m\u001B[0m\u001B[0m\n\u001B[0;32m--> 158\u001B[0;31m     \u001B[0;32mif\u001B[0m \u001B[0mlen\u001B[0m\u001B[0;34m(\u001B[0m\u001B[0mdcm\u001B[0m\u001B[0;34m.\u001B[0m\u001B[0mshape\u001B[0m\u001B[0;34m)\u001B[0m \u001B[0;34m>\u001B[0m \u001B[0;36m2\u001B[0m\u001B[0;34m:\u001B[0m\u001B[0;34m\u001B[0m\u001B[0;34m\u001B[0m\u001B[0m\n\u001B[0m\u001B[1;32m    159\u001B[0m         \u001B[0mdcm\u001B[0m \u001B[0;34m=\u001B[0m \u001B[0mrgb2gray\u001B[0m\u001B[0;34m(\u001B[0m\u001B[0mdcm\u001B[0m\u001B[0;34m[\u001B[0m\u001B[0;34m:\u001B[0m\u001B[0;34m,\u001B[0m \u001B[0;34m:\u001B[0m\u001B[0;34m,\u001B[0m \u001B[0;34m:\u001B[0m\u001B[0;36m3\u001B[0m\u001B[0;34m]\u001B[0m\u001B[0;34m)\u001B[0m\u001B[0;34m\u001B[0m\u001B[0;34m\u001B[0m\u001B[0m\n\u001B[1;32m    160\u001B[0m     \u001B[0mhLoc\u001B[0m \u001B[0;34m=\u001B[0m \u001B[0mint\u001B[0m\u001B[0;34m(\u001B[0m\u001B[0;34m(\u001B[0m\u001B[0mdcm\u001B[0m\u001B[0;34m.\u001B[0m\u001B[0mshape\u001B[0m\u001B[0;34m[\u001B[0m\u001B[0;36m0\u001B[0m\u001B[0;34m]\u001B[0m \u001B[0;34m/\u001B[0m \u001B[0;34m(\u001B[0m\u001B[0mdcm\u001B[0m\u001B[0;34m.\u001B[0m\u001B[0mshape\u001B[0m\u001B[0;34m[\u001B[0m\u001B[0;36m1\u001B[0m\u001B[0;34m]\u001B[0m \u001B[0;34m/\u001B[0m \u001B[0mwLoc\u001B[0m\u001B[0;34m)\u001B[0m\u001B[0;34m)\u001B[0m\u001B[0;34m)\u001B[0m\u001B[0;34m\u001B[0m\u001B[0;34m\u001B[0m\u001B[0m\n",
      "\u001B[0;32m~/PycharmProjects/pythonProject/venv/lib/python3.8/site-packages/skimage/io/_io.py\u001B[0m in \u001B[0;36mimread\u001B[0;34m(fname, as_gray, plugin, **plugin_args)\u001B[0m\n\u001B[1;32m     46\u001B[0m \u001B[0;34m\u001B[0m\u001B[0m\n\u001B[1;32m     47\u001B[0m     \u001B[0;32mwith\u001B[0m \u001B[0mfile_or_url_context\u001B[0m\u001B[0;34m(\u001B[0m\u001B[0mfname\u001B[0m\u001B[0;34m)\u001B[0m \u001B[0;32mas\u001B[0m \u001B[0mfname\u001B[0m\u001B[0;34m:\u001B[0m\u001B[0;34m\u001B[0m\u001B[0;34m\u001B[0m\u001B[0m\n\u001B[0;32m---> 48\u001B[0;31m         \u001B[0mimg\u001B[0m \u001B[0;34m=\u001B[0m \u001B[0mcall_plugin\u001B[0m\u001B[0;34m(\u001B[0m\u001B[0;34m'imread'\u001B[0m\u001B[0;34m,\u001B[0m \u001B[0mfname\u001B[0m\u001B[0;34m,\u001B[0m \u001B[0mplugin\u001B[0m\u001B[0;34m=\u001B[0m\u001B[0mplugin\u001B[0m\u001B[0;34m,\u001B[0m \u001B[0;34m**\u001B[0m\u001B[0mplugin_args\u001B[0m\u001B[0;34m)\u001B[0m\u001B[0;34m\u001B[0m\u001B[0;34m\u001B[0m\u001B[0m\n\u001B[0m\u001B[1;32m     49\u001B[0m \u001B[0;34m\u001B[0m\u001B[0m\n\u001B[1;32m     50\u001B[0m     \u001B[0;32mif\u001B[0m \u001B[0;32mnot\u001B[0m \u001B[0mhasattr\u001B[0m\u001B[0;34m(\u001B[0m\u001B[0mimg\u001B[0m\u001B[0;34m,\u001B[0m \u001B[0;34m'ndim'\u001B[0m\u001B[0;34m)\u001B[0m\u001B[0;34m:\u001B[0m\u001B[0;34m\u001B[0m\u001B[0;34m\u001B[0m\u001B[0m\n",
      "\u001B[0;32m~/PycharmProjects/pythonProject/venv/lib/python3.8/site-packages/skimage/io/manage_plugins.py\u001B[0m in \u001B[0;36mcall_plugin\u001B[0;34m(kind, *args, **kwargs)\u001B[0m\n\u001B[1;32m    205\u001B[0m                                (plugin, kind))\n\u001B[1;32m    206\u001B[0m \u001B[0;34m\u001B[0m\u001B[0m\n\u001B[0;32m--> 207\u001B[0;31m     \u001B[0;32mreturn\u001B[0m \u001B[0mfunc\u001B[0m\u001B[0;34m(\u001B[0m\u001B[0;34m*\u001B[0m\u001B[0margs\u001B[0m\u001B[0;34m,\u001B[0m \u001B[0;34m**\u001B[0m\u001B[0mkwargs\u001B[0m\u001B[0;34m)\u001B[0m\u001B[0;34m\u001B[0m\u001B[0;34m\u001B[0m\u001B[0m\n\u001B[0m\u001B[1;32m    208\u001B[0m \u001B[0;34m\u001B[0m\u001B[0m\n\u001B[1;32m    209\u001B[0m \u001B[0;34m\u001B[0m\u001B[0m\n",
      "\u001B[0;32m~/PycharmProjects/pythonProject/venv/lib/python3.8/site-packages/skimage/io/_plugins/imageio_plugin.py\u001B[0m in \u001B[0;36mimread\u001B[0;34m(*args, **kwargs)\u001B[0m\n\u001B[1;32m      8\u001B[0m \u001B[0;34m@\u001B[0m\u001B[0mwraps\u001B[0m\u001B[0;34m(\u001B[0m\u001B[0mimageio_imread\u001B[0m\u001B[0;34m)\u001B[0m\u001B[0;34m\u001B[0m\u001B[0;34m\u001B[0m\u001B[0m\n\u001B[1;32m      9\u001B[0m \u001B[0;32mdef\u001B[0m \u001B[0mimread\u001B[0m\u001B[0;34m(\u001B[0m\u001B[0;34m*\u001B[0m\u001B[0margs\u001B[0m\u001B[0;34m,\u001B[0m \u001B[0;34m**\u001B[0m\u001B[0mkwargs\u001B[0m\u001B[0;34m)\u001B[0m\u001B[0;34m:\u001B[0m\u001B[0;34m\u001B[0m\u001B[0;34m\u001B[0m\u001B[0m\n\u001B[0;32m---> 10\u001B[0;31m     \u001B[0;32mreturn\u001B[0m \u001B[0mnp\u001B[0m\u001B[0;34m.\u001B[0m\u001B[0masarray\u001B[0m\u001B[0;34m(\u001B[0m\u001B[0mimageio_imread\u001B[0m\u001B[0;34m(\u001B[0m\u001B[0;34m*\u001B[0m\u001B[0margs\u001B[0m\u001B[0;34m,\u001B[0m \u001B[0;34m**\u001B[0m\u001B[0mkwargs\u001B[0m\u001B[0;34m)\u001B[0m\u001B[0;34m)\u001B[0m\u001B[0;34m\u001B[0m\u001B[0;34m\u001B[0m\u001B[0m\n\u001B[0m",
      "\u001B[0;32m~/PycharmProjects/pythonProject/venv/lib/python3.8/site-packages/imageio/core/functions.py\u001B[0m in \u001B[0;36mimread\u001B[0;34m(uri, format, **kwargs)\u001B[0m\n\u001B[1;32m    263\u001B[0m         \u001B[0mresulting\u001B[0m \u001B[0mlist\u001B[0m \u001B[0mof\u001B[0m \u001B[0mimages\u001B[0m \u001B[0mconsumes\u001B[0m \u001B[0mover\u001B[0m \u001B[0;36m256\u001B[0m \u001B[0mMB\u001B[0m \u001B[0mof\u001B[0m \u001B[0mmemory\u001B[0m\u001B[0;34m.\u001B[0m \u001B[0mThis\u001B[0m\u001B[0;34m\u001B[0m\u001B[0;34m\u001B[0m\u001B[0m\n\u001B[1;32m    264\u001B[0m         \u001B[0;32mis\u001B[0m \u001B[0mto\u001B[0m \u001B[0mprotect\u001B[0m \u001B[0mthe\u001B[0m \u001B[0msystem\u001B[0m \u001B[0musing\u001B[0m \u001B[0mso\u001B[0m \u001B[0mmuch\u001B[0m \u001B[0mmemory\u001B[0m \u001B[0mthat\u001B[0m \u001B[0mit\u001B[0m \u001B[0mneeds\u001B[0m \u001B[0mto\u001B[0m\u001B[0;34m\u001B[0m\u001B[0;34m\u001B[0m\u001B[0m\n\u001B[0;32m--> 265\u001B[0;31m         \u001B[0mresort\u001B[0m \u001B[0mto\u001B[0m \u001B[0mswapping\u001B[0m\u001B[0;34m,\u001B[0m \u001B[0;32mand\u001B[0m \u001B[0mthereby\u001B[0m \u001B[0mstall\u001B[0m \u001B[0mthe\u001B[0m \u001B[0mcomputer\u001B[0m\u001B[0;34m.\u001B[0m \u001B[0mE\u001B[0m\u001B[0;34m.\u001B[0m\u001B[0mg\u001B[0m\u001B[0;34m.\u001B[0m\u001B[0;34m\u001B[0m\u001B[0;34m\u001B[0m\u001B[0m\n\u001B[0m\u001B[1;32m    266\u001B[0m         \u001B[0;31m`\u001B[0m\u001B[0;31m`\u001B[0m\u001B[0mmimread\u001B[0m\u001B[0;34m(\u001B[0m\u001B[0;34m'hunger_games.avi'\u001B[0m\u001B[0;34m)\u001B[0m\u001B[0;31m`\u001B[0m\u001B[0;31m`\u001B[0m\u001B[0;34m.\u001B[0m\u001B[0;34m\u001B[0m\u001B[0;34m\u001B[0m\u001B[0m\n\u001B[1;32m    267\u001B[0m     \u001B[0mkwargs\u001B[0m \u001B[0;34m:\u001B[0m \u001B[0;34m...\u001B[0m\u001B[0;34m\u001B[0m\u001B[0;34m\u001B[0m\u001B[0m\n",
      "\u001B[0;32m~/PycharmProjects/pythonProject/venv/lib/python3.8/site-packages/imageio/core/functions.py\u001B[0m in \u001B[0;36mget_reader\u001B[0;34m(uri, format, mode, **kwargs)\u001B[0m\n\u001B[1;32m    170\u001B[0m \u001B[0;34m\u001B[0m\u001B[0m\n\u001B[1;32m    171\u001B[0m     \u001B[0;31m# Return its writer object\u001B[0m\u001B[0;34m\u001B[0m\u001B[0;34m\u001B[0m\u001B[0;34m\u001B[0m\u001B[0m\n\u001B[0;32m--> 172\u001B[0;31m     \u001B[0;32mreturn\u001B[0m \u001B[0mformat\u001B[0m\u001B[0;34m.\u001B[0m\u001B[0mget_writer\u001B[0m\u001B[0;34m(\u001B[0m\u001B[0mrequest\u001B[0m\u001B[0;34m)\u001B[0m\u001B[0;34m\u001B[0m\u001B[0;34m\u001B[0m\u001B[0m\n\u001B[0m\u001B[1;32m    173\u001B[0m \u001B[0;34m\u001B[0m\u001B[0m\n\u001B[1;32m    174\u001B[0m \u001B[0;34m\u001B[0m\u001B[0m\n",
      "\u001B[0;32m~/PycharmProjects/pythonProject/venv/lib/python3.8/site-packages/imageio/core/request.py\u001B[0m in \u001B[0;36m__init__\u001B[0;34m(self, uri, mode, **kwargs)\u001B[0m\n\u001B[1;32m    122\u001B[0m     \u001B[0;32mdef\u001B[0m \u001B[0m_parse_uri\u001B[0m\u001B[0;34m(\u001B[0m\u001B[0mself\u001B[0m\u001B[0;34m,\u001B[0m \u001B[0muri\u001B[0m\u001B[0;34m)\u001B[0m\u001B[0;34m:\u001B[0m\u001B[0;34m\u001B[0m\u001B[0;34m\u001B[0m\u001B[0m\n\u001B[1;32m    123\u001B[0m         \"\"\" Try to figure our what we were given\n\u001B[0;32m--> 124\u001B[0;31m         \"\"\"\n\u001B[0m\u001B[1;32m    125\u001B[0m         \u001B[0mpy3k\u001B[0m \u001B[0;34m=\u001B[0m \u001B[0msys\u001B[0m\u001B[0;34m.\u001B[0m\u001B[0mversion_info\u001B[0m\u001B[0;34m[\u001B[0m\u001B[0;36m0\u001B[0m\u001B[0;34m]\u001B[0m \u001B[0;34m==\u001B[0m \u001B[0;36m3\u001B[0m\u001B[0;34m\u001B[0m\u001B[0;34m\u001B[0m\u001B[0m\n\u001B[1;32m    126\u001B[0m         \u001B[0mis_read_request\u001B[0m \u001B[0;34m=\u001B[0m \u001B[0mself\u001B[0m\u001B[0;34m.\u001B[0m\u001B[0mmode\u001B[0m\u001B[0;34m[\u001B[0m\u001B[0;36m0\u001B[0m\u001B[0;34m]\u001B[0m \u001B[0;34m==\u001B[0m \u001B[0;34m'r'\u001B[0m\u001B[0;34m\u001B[0m\u001B[0;34m\u001B[0m\u001B[0m\n",
      "\u001B[0;32m~/PycharmProjects/pythonProject/venv/lib/python3.8/site-packages/imageio/core/request.py\u001B[0m in \u001B[0;36m_parse_uri\u001B[0;34m(self, uri)\u001B[0m\n\u001B[1;32m    220\u001B[0m         \u001B[0;31m# Check if this is supported\u001B[0m\u001B[0;34m\u001B[0m\u001B[0;34m\u001B[0m\u001B[0;34m\u001B[0m\u001B[0m\n\u001B[1;32m    221\u001B[0m         \u001B[0mnoWriting\u001B[0m \u001B[0;34m=\u001B[0m \u001B[0;34m[\u001B[0m\u001B[0mURI_HTTP\u001B[0m\u001B[0;34m,\u001B[0m \u001B[0mURI_FTP\u001B[0m\u001B[0;34m]\u001B[0m\u001B[0;34m\u001B[0m\u001B[0;34m\u001B[0m\u001B[0m\n\u001B[0;32m--> 222\u001B[0;31m         \u001B[0;32mif\u001B[0m \u001B[0mis_write_request\u001B[0m \u001B[0;32mand\u001B[0m \u001B[0mself\u001B[0m\u001B[0;34m.\u001B[0m\u001B[0m_uri_type\u001B[0m \u001B[0;32min\u001B[0m \u001B[0mnoWriting\u001B[0m\u001B[0;34m:\u001B[0m\u001B[0;34m\u001B[0m\u001B[0;34m\u001B[0m\u001B[0m\n\u001B[0m\u001B[1;32m    223\u001B[0m             \u001B[0;32mraise\u001B[0m \u001B[0mIOError\u001B[0m\u001B[0;34m(\u001B[0m\u001B[0;34m'imageio does not support writing to http/ftp.'\u001B[0m\u001B[0;34m)\u001B[0m\u001B[0;34m\u001B[0m\u001B[0;34m\u001B[0m\u001B[0m\n\u001B[1;32m    224\u001B[0m \u001B[0;34m\u001B[0m\u001B[0m\n",
      "\u001B[0;31mOSError\u001B[0m: Cannot understand given URI: array([[16.732504  ,  4.6807103 ,  0.76154566, ..., 14.58...."
     ]
    }
   ],
   "source": [
    "i = 0\n",
    "cam_extractor = ScoreCAM(resnet18masked)\n",
    "for imgp in tqdm(image_list):\n",
    "  print(str(i)+\" \"+imgp.split(os.path.sep)[-1])\n",
    "  i+=1\n",
    "\n",
    "  x = cv2.imread(imgp, cv2.IMREAD_GRAYSCALE)\n",
    "  x = cv2.resize(x, (256,256))\n",
    "  x = x.astype('float32') / 255\n",
    "\n",
    "  x1 = np.expand_dims(x, axis=0)\n",
    "  t=time.time()\n",
    "\n",
    "  bs = resnetbs.predict(x1)\n",
    "  bs = np.reshape(bs, (256,256))\n",
    "  bs = bs*255\n",
    "\n",
    "  img, roi, h, w, hLoc, wLoc, imH, imW = loadDCM(bs, preprocess=False)\n",
    "\n",
    "  img = img.to(device)\n",
    "  _,pred = VAE(img)\n",
    "  pred = torch.sigmoid(pred.cpu()*roi)\n",
    "  pred = saveMask(pred.squeeze(),h,w,hLoc,wLoc,imH,imW)\n",
    "  pred = torch.from_numpy(pred)\n",
    "  pred = torch.unsqueeze(pred, 0)\n",
    "  pred = torch.unsqueeze(pred, 1)\n",
    "  pred = pred.squeeze().numpy()\n",
    "\n",
    "  pred = pred[65:510]\n",
    "  pred = 1.0 * (pred > 0.5)\n",
    "\n",
    "  img = img.cpu().squeeze()[65:510]\n",
    "  img = cv2.resize(np.array(img), (256, 256))\n",
    "\n",
    "  pred = cv2.resize(np.array(pred), (256, 256))\n",
    "\n",
    "  bsmasked = img*pred*255\n",
    "  bsmasked = cv2.resize(np.array(bsmasked), (256, 256))\n",
    "\n",
    "  masked = x*pred*255\n",
    "  masked = cv2.resize(np.array(masked), (256, 256))\n",
    "\n",
    "  x = x*255\n",
    "\n",
    "  t = Compose([transforms.ToPILImage(), transforms.Resize((224,224), interpolation=Image.NEAREST), transforms.ToTensor()])\n",
    "\n",
    "  masked = masked.astype('uint8')\n",
    "  bs = bs.astype('uint8')\n",
    "  x = x.astype('uint8')\n",
    "  bsmasked = bsmasked.astype('uint8')\n",
    "\n",
    "  masked = t(np.stack((np.array(masked),)*3, axis=-1))\n",
    "  bsmasked = t(np.stack((np.array(bsmasked),)*3, axis=-1))\n",
    "  bs = t(np.stack((np.array(bs),)*3, axis=-1))\n",
    "  x = t(np.stack((np.array(x),)*3, axis=-1))\n",
    "\n",
    "\n",
    "  print('-----og-pred----')\n",
    "  plot_hm(t(x))\n",
    "  print('-----masked-pred----')\n",
    "  plot_hm(t(masked))\n",
    "  print('-----bs-pred----')\n",
    "  plot_hm(t(bs))\n",
    "  print('-----bs-masked-pred----')\n",
    "  plot_hm(t(bsmasked))\n",
    "\n",
    "  break"
   ],
   "metadata": {
    "collapsed": false,
    "pycharm": {
     "name": "#%%\n"
    }
   }
  },
  {
   "cell_type": "code",
   "execution_count": null,
   "outputs": [],
   "source": [],
   "metadata": {
    "collapsed": false,
    "pycharm": {
     "name": "#%%\n"
    }
   }
  }
 ],
 "metadata": {
  "kernelspec": {
   "display_name": "Python 3",
   "language": "python",
   "name": "python3"
  },
  "language_info": {
   "codemirror_mode": {
    "name": "ipython",
    "version": 2
   },
   "file_extension": ".py",
   "mimetype": "text/x-python",
   "name": "python",
   "nbconvert_exporter": "python",
   "pygments_lexer": "ipython2",
   "version": "2.7.6"
  }
 },
 "nbformat": 4,
 "nbformat_minor": 0
}